{
 "cells": [
  {
   "cell_type": "code",
   "execution_count": 24,
   "id": "initial_id",
   "metadata": {
    "collapsed": true,
    "ExecuteTime": {
     "end_time": "2024-02-22T17:39:18.844769500Z",
     "start_time": "2024-02-22T17:39:18.839763300Z"
    }
   },
   "outputs": [],
   "source": [
    "from dotenv import load_dotenv , find_dotenv\n",
    "import os\n",
    "import pprint\n",
    "from pymongo import MongoClient\n",
    "#load_dotenv(find_dotenv())"
   ]
  },
  {
   "cell_type": "code",
   "outputs": [],
   "source": [
    "connection_string = os.getenv(\"CONN_STRING\")\n",
    "client = MongoClient(connection_string)"
   ],
   "metadata": {
    "collapsed": false,
    "ExecuteTime": {
     "end_time": "2024-02-22T17:39:18.980885700Z",
     "start_time": "2024-02-22T17:39:18.841769Z"
    }
   },
   "id": "820f6dbb9ce4892b",
   "execution_count": 25
  },
  {
   "cell_type": "code",
   "outputs": [
    {
     "name": "stdout",
     "output_type": "stream",
     "text": [
      "['crud', 'db', 'admin', 'local']\n"
     ]
    }
   ],
   "source": [
    "dbs = client.list_database_names()\n",
    "print(dbs)"
   ],
   "metadata": {
    "collapsed": false,
    "ExecuteTime": {
     "end_time": "2024-02-22T17:39:19.557706200Z",
     "start_time": "2024-02-22T17:39:18.980885700Z"
    }
   },
   "id": "55809f3f7091fc1b",
   "execution_count": 26
  },
  {
   "cell_type": "code",
   "outputs": [
    {
     "name": "stdout",
     "output_type": "stream",
     "text": [
      "['test']\n"
     ]
    }
   ],
   "source": [
    "db = client.crud\n",
    "collections = db.list_collection_names()\n",
    "print(collections)"
   ],
   "metadata": {
    "collapsed": false,
    "ExecuteTime": {
     "end_time": "2024-02-22T17:39:19.608494500Z",
     "start_time": "2024-02-22T17:39:19.557706200Z"
    }
   },
   "id": "b4bc51818a35765",
   "execution_count": 27
  },
  {
   "cell_type": "code",
   "outputs": [],
   "source": [
    "new_db = client.new_db # Making new database\n",
    "new_collection = client.new_collection # Making new collection"
   ],
   "metadata": {
    "collapsed": false,
    "ExecuteTime": {
     "end_time": "2024-02-22T17:39:19.608494500Z",
     "start_time": "2024-02-22T17:39:19.598395500Z"
    }
   },
   "id": "285dfebd24b8dd69",
   "execution_count": 28
  },
  {
   "cell_type": "code",
   "outputs": [],
   "source": [
    "collection = db.test\n",
    "\n",
    "# Creation\n",
    "def create_document(first_name , last_name , age):\n",
    "    \n",
    "    doc = {\"first_name\":first_name, \"last_name\":last_name, \"age\":age}\n",
    "    collection.insert_one(doc)\n",
    "    \n",
    "#create_document(\"John\",\"Doe\",20)\n",
    "    "
   ],
   "metadata": {
    "collapsed": false,
    "ExecuteTime": {
     "end_time": "2024-02-22T17:39:19.659484200Z",
     "start_time": "2024-02-22T17:39:19.602493200Z"
    }
   },
   "id": "7bb590450a3efd7b",
   "execution_count": 29
  }
 ],
 "metadata": {
  "kernelspec": {
   "display_name": "Python 3",
   "language": "python",
   "name": "python3"
  },
  "language_info": {
   "codemirror_mode": {
    "name": "ipython",
    "version": 2
   },
   "file_extension": ".py",
   "mimetype": "text/x-python",
   "name": "python",
   "nbconvert_exporter": "python",
   "pygments_lexer": "ipython2",
   "version": "2.7.6"
  }
 },
 "nbformat": 4,
 "nbformat_minor": 5
}
