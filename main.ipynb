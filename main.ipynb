{
 "cells": [
  {
   "cell_type": "code",
   "execution_count": 55,
   "id": "initial_id",
   "metadata": {
    "collapsed": true,
    "ExecuteTime": {
     "end_time": "2024-02-22T17:47:27.572545Z",
     "start_time": "2024-02-22T17:47:27.565820300Z"
    }
   },
   "outputs": [],
   "source": [
    "import os\n",
    "import pprint\n",
    "from pymongo import MongoClient"
   ]
  },
  {
   "cell_type": "code",
   "outputs": [],
   "source": [
    "connection_string = os.getenv(\"CONN_STRING\")\n",
    "client = MongoClient(connection_string)"
   ],
   "metadata": {
    "collapsed": false,
    "ExecuteTime": {
     "end_time": "2024-02-22T17:47:27.700540Z",
     "start_time": "2024-02-22T17:47:27.575545300Z"
    }
   },
   "id": "820f6dbb9ce4892b",
   "execution_count": 56
  },
  {
   "cell_type": "code",
   "outputs": [
    {
     "name": "stdout",
     "output_type": "stream",
     "text": [
      "['crud', 'db', 'admin', 'local']\n"
     ]
    }
   ],
   "source": [
    "dbs = client.list_database_names()\n",
    "print(dbs)"
   ],
   "metadata": {
    "collapsed": false,
    "ExecuteTime": {
     "end_time": "2024-02-22T17:47:28.293665800Z",
     "start_time": "2024-02-22T17:47:27.702540900Z"
    }
   },
   "id": "55809f3f7091fc1b",
   "execution_count": 57
  },
  {
   "cell_type": "code",
   "outputs": [
    {
     "name": "stdout",
     "output_type": "stream",
     "text": [
      "['test']\n"
     ]
    }
   ],
   "source": [
    "db = client.crud\n",
    "collection = db.test\n",
    "collections = db.list_collection_names()\n",
    "print(collections)"
   ],
   "metadata": {
    "collapsed": false,
    "ExecuteTime": {
     "end_time": "2024-02-22T17:47:28.357741700Z",
     "start_time": "2024-02-22T17:47:28.295664700Z"
    }
   },
   "id": "b4bc51818a35765",
   "execution_count": 58
  },
  {
   "cell_type": "code",
   "outputs": [],
   "source": [
    "new_db = client.new_db # Making new database\n",
    "new_collection = client.new_collection # Making new collection"
   ],
   "metadata": {
    "collapsed": false,
    "ExecuteTime": {
     "end_time": "2024-02-22T17:47:28.361741200Z",
     "start_time": "2024-02-22T17:47:28.356221400Z"
    }
   },
   "id": "285dfebd24b8dd69",
   "execution_count": 59
  },
  {
   "cell_type": "code",
   "outputs": [],
   "source": [
    "# Create\n",
    "\n",
    "def create_document(first_name , last_name , age):\n",
    "    \n",
    "    doc = {\"first_name\":first_name, \"last_name\":last_name, \"age\":age}\n",
    "    collection.insert_one(doc)\n",
    "    \n",
    "#create_document(\"John\",\"Doe\",20)\n",
    "#create_document(\"Jane\",\"Doe\",21)"
   ],
   "metadata": {
    "collapsed": false,
    "ExecuteTime": {
     "end_time": "2024-02-22T17:47:28.368450400Z",
     "start_time": "2024-02-22T17:47:28.359740500Z"
    }
   },
   "id": "7bb590450a3efd7b",
   "execution_count": 60
  },
  {
   "cell_type": "code",
   "outputs": [],
   "source": [
    "printer = pprint.PrettyPrinter()"
   ],
   "metadata": {
    "collapsed": false,
    "ExecuteTime": {
     "end_time": "2024-02-22T17:47:28.386852200Z",
     "start_time": "2024-02-22T17:47:28.368450400Z"
    }
   },
   "id": "391bbf1158dae389",
   "execution_count": 61
  },
  {
   "cell_type": "code",
   "outputs": [
    {
     "name": "stdout",
     "output_type": "stream",
     "text": [
      "{'_id': ObjectId('65d786c73500157faf80b842'),\n",
      " 'age': 20,\n",
      " 'first_name': 'John',\n",
      " 'last_name': 'Doe'}\n",
      "{'_id': ObjectId('65d788503500157faf80b844'),\n",
      " 'age': 21,\n",
      " 'first_name': 'Jane',\n",
      " 'last_name': 'Doe'}\n"
     ]
    }
   ],
   "source": [
    "# Read\n",
    "\n",
    "def read_documents():\n",
    "    \n",
    "    docs = collection.find()\n",
    "    \n",
    "    for doc in docs:\n",
    "        printer.pprint(doc)\n",
    "        \n",
    "read_documents()"
   ],
   "metadata": {
    "collapsed": false,
    "ExecuteTime": {
     "end_time": "2024-02-22T17:47:28.443224200Z",
     "start_time": "2024-02-22T17:47:28.375852800Z"
    }
   },
   "id": "6794a6ab0c2f99fb",
   "execution_count": 62
  }
 ],
 "metadata": {
  "kernelspec": {
   "display_name": "Python 3",
   "language": "python",
   "name": "python3"
  },
  "language_info": {
   "codemirror_mode": {
    "name": "ipython",
    "version": 2
   },
   "file_extension": ".py",
   "mimetype": "text/x-python",
   "name": "python",
   "nbconvert_exporter": "python",
   "pygments_lexer": "ipython2",
   "version": "2.7.6"
  }
 },
 "nbformat": 4,
 "nbformat_minor": 5
}
