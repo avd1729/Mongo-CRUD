{
 "cells": [
  {
   "cell_type": "code",
   "execution_count": 66,
   "id": "initial_id",
   "metadata": {
    "ExecuteTime": {
     "end_time": "2024-02-22T17:59:03.163629400Z",
     "start_time": "2024-02-22T17:59:02.833472700Z"
    },
    "collapsed": true
   },
   "outputs": [],
   "source": [
    "import os\n",
    "import pprint\n",
    "from pymongo import MongoClient"
   ]
  },
  {
   "cell_type": "code",
   "execution_count": 67,
   "id": "820f6dbb9ce4892b",
   "metadata": {
    "ExecuteTime": {
     "end_time": "2024-02-22T17:59:03.166640600Z",
     "start_time": "2024-02-22T17:59:03.156865900Z"
    },
    "collapsed": false
   },
   "outputs": [],
   "source": [
    "connection_string = os.getenv(\"CONN_STRING\")\n",
    "client = MongoClient(connection_string)"
   ]
  },
  {
   "cell_type": "code",
   "execution_count": 68,
   "id": "55809f3f7091fc1b",
   "metadata": {
    "ExecuteTime": {
     "end_time": "2024-02-22T17:59:33.875489100Z",
     "start_time": "2024-02-22T17:59:03.166640600Z"
    },
    "collapsed": false
   },
   "outputs": [
    {
     "name": "stdout",
     "output_type": "stream",
     "text": [
      "['crud', 'db', 'admin', 'local']\n"
     ]
    }
   ],
   "source": [
    "dbs = client.list_database_names()\n",
    "print(dbs)"
   ]
  },
  {
   "cell_type": "code",
   "execution_count": 69,
   "id": "b4bc51818a35765",
   "metadata": {
    "ExecuteTime": {
     "end_time": "2024-02-22T17:59:33.879490100Z",
     "start_time": "2024-02-22T17:59:33.876489500Z"
    },
    "collapsed": false
   },
   "outputs": [
    {
     "name": "stdout",
     "output_type": "stream",
     "text": [
      "['test']\n"
     ]
    }
   ],
   "source": [
    "db = client.crud\n",
    "collection = db.test\n",
    "collections = db.list_collection_names()\n",
    "print(collections)"
   ]
  },
  {
   "cell_type": "code",
   "execution_count": 70,
   "id": "285dfebd24b8dd69",
   "metadata": {
    "ExecuteTime": {
     "start_time": "2024-02-22T17:59:33.878489400Z"
    },
    "collapsed": false
   },
   "outputs": [],
   "source": [
    "new_db = client.new_db # Making new database\n",
    "new_collection = client.new_collection # Making new collection"
   ]
  },
  {
   "cell_type": "code",
   "execution_count": 71,
   "id": "7bb590450a3efd7b",
   "metadata": {
    "ExecuteTime": {
     "end_time": "2024-02-22T17:59:33.879490100Z",
     "start_time": "2024-02-22T17:59:33.879490100Z"
    },
    "collapsed": false
   },
   "outputs": [],
   "source": [
    "# Create\n",
    "\n",
    "def create_document(first_name , last_name , age):\n",
    "    \n",
    "    doc = {\"first_name\":first_name, \"last_name\":last_name, \"age\":age}\n",
    "    collection.insert_one(doc)\n",
    "    \n",
    "#create_document(\"John\",\"Doe\",20)\n",
    "#create_document(\"Jane\",\"Doe\",21)"
   ]
  },
  {
   "cell_type": "code",
   "execution_count": 72,
   "id": "391bbf1158dae389",
   "metadata": {
    "ExecuteTime": {
     "end_time": "2024-02-22T17:59:33.881489500Z",
     "start_time": "2024-02-22T17:59:33.880489800Z"
    },
    "collapsed": false
   },
   "outputs": [],
   "source": [
    "printer = pprint.PrettyPrinter()"
   ]
  },
  {
   "cell_type": "code",
   "execution_count": 73,
   "id": "6794a6ab0c2f99fb",
   "metadata": {
    "ExecuteTime": {
     "end_time": "2024-02-22T17:59:33.889488400Z",
     "start_time": "2024-02-22T17:59:33.882490500Z"
    },
    "collapsed": false
   },
   "outputs": [
    {
     "name": "stdout",
     "output_type": "stream",
     "text": [
      "{'_id': ObjectId('65d788503500157faf80b844'),\n",
      " 'age': 21,\n",
      " 'first_name': 'Jane',\n",
      " 'last_name': 'Doe'}\n",
      "{'_id': ObjectId('65d78f7fb81ac9f506065f91'),\n",
      " 'age': 21,\n",
      " 'first_name': 'John',\n",
      " 'last_name': 'Doe',\n",
      " 'salary': 90000}\n"
     ]
    }
   ],
   "source": [
    "# Read\n",
    "\n",
    "def read_documents():\n",
    "    \n",
    "    docs = collection.find()\n",
    "    \n",
    "    for doc in docs:\n",
    "        printer.pprint(doc)\n",
    "        \n",
    "read_documents()"
   ]
  },
  {
   "cell_type": "code",
   "execution_count": 74,
   "id": "bfe75a0e9254b308",
   "metadata": {
    "ExecuteTime": {
     "start_time": "2024-02-22T17:59:33.883490Z"
    },
    "collapsed": false
   },
   "outputs": [
    {
     "name": "stdout",
     "output_type": "stream",
     "text": [
      "{'_id': ObjectId('65d78f7fb81ac9f506065f91'),\n",
      " 'age': 21,\n",
      " 'first_name': 'John',\n",
      " 'last_name': 'Doe',\n",
      " 'salary': 90000}\n"
     ]
    }
   ],
   "source": [
    "# Search\n",
    "\n",
    "def search(column , value):\n",
    "    \n",
    "    x = collection.find_one({column:value})\n",
    "    printer.pprint(x)\n",
    "    \n",
    "search(\"first_name\",\"John\")"
   ]
  },
  {
   "cell_type": "code",
   "execution_count": 75,
   "id": "8135551988512057",
   "metadata": {
    "ExecuteTime": {
     "start_time": "2024-02-22T17:59:33.884490100Z"
    },
    "collapsed": false
   },
   "outputs": [
    {
     "name": "stdout",
     "output_type": "stream",
     "text": [
      "Number of documents in the collection :  2\n"
     ]
    }
   ],
   "source": [
    "# Count\n",
    "\n",
    "def count():\n",
    "    count = collection.count_documents({})\n",
    "    print(\"Number of documents in the collection : \", count)\n",
    "    \n",
    "count()"
   ]
  },
  {
   "cell_type": "code",
   "execution_count": 76,
   "id": "5fcf649f1f898f67",
   "metadata": {
    "ExecuteTime": {
     "start_time": "2024-02-22T17:59:33.885489800Z"
    },
    "collapsed": false
   },
   "outputs": [
    {
     "name": "stdout",
     "output_type": "stream",
     "text": [
      "{'_id': ObjectId('65d788503500157faf80b844'),\n",
      " 'age': 21,\n",
      " 'first_name': 'Jane',\n",
      " 'last_name': 'Doe'}\n"
     ]
    }
   ],
   "source": [
    "# Search with ID\n",
    "\n",
    "def get_by_id(id):\n",
    "    \n",
    "    from bson.objectid import ObjectId\n",
    "    _id = ObjectId(id)\n",
    "    doc = collection.find_one({\"_id\":_id})\n",
    "    printer.pprint(doc)\n",
    "    \n",
    "get_by_id('65d788503500157faf80b844')"
   ]
  },
  {
   "cell_type": "code",
   "execution_count": 77,
   "id": "e762aa16da37b72b",
   "metadata": {
    "ExecuteTime": {
     "start_time": "2024-02-22T17:59:33.886492300Z"
    },
    "collapsed": false
   },
   "outputs": [],
   "source": [
    "# Update\n",
    "\n",
    "def update(id):\n",
    "\n",
    "    from bson.objectid import ObjectId\n",
    "    _id = ObjectId(id)\n",
    "    \n",
    "    all_ups = {\n",
    "        \"$set\" : {\"salary\" : 90000},\n",
    "        \"$inc\" : {\"age\" : 1},\n",
    "        #\"$rename\" : {\"first_name\" : \"Jake\"}\n",
    "    }\n",
    "\n",
    "    collection.update_one({\"_id\":_id} , all_ups)\n",
    "\n",
    "#update('65d78f7fb81ac9f506065f91')"
   ]
  },
  {
   "cell_type": "code",
   "execution_count": 78,
   "id": "93703047",
   "metadata": {},
   "outputs": [
    {
     "name": "stdout",
     "output_type": "stream",
     "text": [
      "{'_id': ObjectId('65d78f7fb81ac9f506065f91'),\n",
      " 'age': 21,\n",
      " 'first_name': 'John',\n",
      " 'last_name': 'Doe',\n",
      " 'salary': 90000}\n"
     ]
    }
   ],
   "source": [
    "get_by_id('65d78f7fb81ac9f506065f91')"
   ]
  },
  {
   "cell_type": "code",
   "execution_count": 79,
   "id": "6a14e8d0",
   "metadata": {},
   "outputs": [],
   "source": [
    "# Replace\n",
    "\n",
    "def replace(id , first_name , last_name):\n",
    "\n",
    "    from bson.objectid import ObjectId\n",
    "    _id = ObjectId(id)\n",
    "\n",
    "    new_doc = {\n",
    "        \"first_name\" : first_name,\n",
    "        \"last_name\" : last_name\n",
    "    }\n",
    "\n",
    "    collection.replace_one({\"_id\" : _id} , new_doc)\n",
    "\n",
    "replace('65d788503500157faf80b844','Jessy','Doe')\n"
   ]
  },
  {
   "cell_type": "code",
   "execution_count": 80,
   "id": "9478f5ef",
   "metadata": {},
   "outputs": [
    {
     "name": "stdout",
     "output_type": "stream",
     "text": [
      "{'_id': ObjectId('65d788503500157faf80b844'),\n",
      " 'first_name': 'Jessy',\n",
      " 'last_name': 'Doe'}\n"
     ]
    }
   ],
   "source": [
    "get_by_id('65d788503500157faf80b844')"
   ]
  }
 ],
 "metadata": {
  "kernelspec": {
   "display_name": "Python 3",
   "language": "python",
   "name": "python3"
  },
  "language_info": {
   "codemirror_mode": {
    "name": "ipython",
    "version": 3
   },
   "file_extension": ".py",
   "mimetype": "text/x-python",
   "name": "python",
   "nbconvert_exporter": "python",
   "pygments_lexer": "ipython3",
   "version": "3.11.5"
  }
 },
 "nbformat": 4,
 "nbformat_minor": 5
}
